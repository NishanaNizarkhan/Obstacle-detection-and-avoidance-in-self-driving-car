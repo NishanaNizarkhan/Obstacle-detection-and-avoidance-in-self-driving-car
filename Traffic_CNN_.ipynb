{
  "nbformat": 4,
  "nbformat_minor": 0,
  "metadata": {
    "kernelspec": {
      "display_name": "Python 3",
      "language": "python",
      "name": "python3"
    },
    "language_info": {
      "codemirror_mode": {
        "name": "ipython",
        "version": 3
      },
      "file_extension": ".py",
      "mimetype": "text/x-python",
      "name": "python",
      "nbconvert_exporter": "python",
      "pygments_lexer": "ipython3",
      "version": "3.7.4"
    },
    "colab": {
      "provenance": []
    }
  },
  "cells": [
    {
      "cell_type": "code",
      "metadata": {
        "id": "F50txc5J9DM3"
      },
      "source": [
        "import numpy as np\n",
        "import os\n",
        "import cv2\n",
        "import matplotlib.pyplot as plt"
      ],
      "execution_count": null,
      "outputs": []
    },
    {
      "cell_type": "code",
      "source": [
        "from google.colab import drive\n",
        "drive.mount('/content/drive')"
      ],
      "metadata": {
        "colab": {
          "base_uri": "https://localhost:8080/"
        },
        "id": "0Z7fOwTCCcpH",
        "outputId": "9cfa3327-7013-49e6-8bbe-051a821568b2"
      },
      "execution_count": null,
      "outputs": [
        {
          "output_type": "stream",
          "name": "stdout",
          "text": [
            "Drive already mounted at /content/drive; to attempt to forcibly remount, call drive.mount(\"/content/drive\", force_remount=True).\n"
          ]
        }
      ]
    },
    {
      "cell_type": "code",
      "source": [
        "cd /content/drive/MyDrive/Project/HUPTrafficdata"
      ],
      "metadata": {
        "colab": {
          "base_uri": "https://localhost:8080/"
        },
        "id": "Liwva0QsCyu1",
        "outputId": "8c658b0b-f4aa-4785-fe1e-55d7213ea85c"
      },
      "execution_count": null,
      "outputs": [
        {
          "output_type": "stream",
          "name": "stdout",
          "text": [
            "/content/drive/MyDrive/Project/HUPTrafficdata\n"
          ]
        }
      ]
    },
    {
      "cell_type": "code",
      "source": [
        "!ls"
      ],
      "metadata": {
        "colab": {
          "base_uri": "https://localhost:8080/"
        },
        "id": "GmqMSElMsrMQ",
        "outputId": "dd17f202-cddb-4ed1-aaab-e274629f8769"
      },
      "execution_count": null,
      "outputs": [
        {
          "output_type": "stream",
          "name": "stdout",
          "text": [
            "go  left  leftlane  right  stop  X.pkl\ty.pkl\n"
          ]
        }
      ]
    },
    {
      "cell_type": "code",
      "metadata": {
        "id": "l4gSeYF-9DNA"
      },
      "source": [
        "DIRECTORY = ''\n",
        "\n",
        "CATEGORIES = ['right','left','stop','go']"
      ],
      "execution_count": null,
      "outputs": []
    },
    {
      "cell_type": "code",
      "metadata": {
        "id": "vp8IzJ2n9DNB"
      },
      "source": [
        "import os\n",
        "data = []\n",
        "\n",
        "for category in CATEGORIES:\n",
        "    path = os.path.join(DIRECTORY, category)\n",
        "    for img in os.listdir(path):\n",
        "        img_path = os.path.join(path, img)\n",
        "        label = CATEGORIES.index(category)\n",
        "        arr = cv2.imread(img_path, cv2.IMREAD_GRAYSCALE)\n",
        "        new_arr = cv2.resize(arr, (60, 60))\n",
        "        data.append([new_arr, label])"
      ],
      "execution_count": null,
      "outputs": []
    },
    {
      "cell_type": "code",
      "metadata": {
        "colab": {
          "base_uri": "https://localhost:8080/"
        },
        "id": "AiwVbneS9DND",
        "outputId": "19f2d070-79fb-4e26-bceb-933840dfe829"
      },
      "source": [
        "data"
      ],
      "execution_count": null,
      "outputs": [
        {
          "output_type": "execute_result",
          "data": {
            "text/plain": [
              "[[array([[254, 254, 254, ..., 254, 254, 254],\n",
              "         [254, 254, 254, ..., 254, 254, 254],\n",
              "         [254, 254, 254, ..., 254, 254, 254],\n",
              "         ...,\n",
              "         [ 20,  20,  20, ...,  20,  20,  20],\n",
              "         [ 20,  20, 226, ..., 137,  20,  20],\n",
              "         [ 20,  20,  20, ...,  20,  20,  20]], dtype=uint8),\n",
              "  1],\n",
              " [array([[255, 255, 255, ..., 255, 255, 255],\n",
              "         [255, 255, 255, ..., 255, 255, 255],\n",
              "         [255, 255, 255, ..., 255, 255, 255],\n",
              "         ...,\n",
              "         [ 90, 210, 175, ...,  91,  90,  92],\n",
              "         [ 88, 228, 195, ..., 159, 164,  92],\n",
              "         [ 95, 134,  90, ...,  92,  87,  93]], dtype=uint8),\n",
              "  1],\n",
              " [array([[  0,   0,   0, ...,   0,   0,   0],\n",
              "         [  0,   0, 255, ..., 255,   0,   0],\n",
              "         [  0, 255, 255, ..., 255, 255,   0],\n",
              "         ...,\n",
              "         [  0, 255, 255, ..., 255, 255,   0],\n",
              "         [  0,   0, 255, ..., 255,   0,   0],\n",
              "         [  0,   0,   0, ...,   0,   0,   0]], dtype=uint8),\n",
              "  1],\n",
              " [array([[245, 247, 254, ..., 254, 252, 246],\n",
              "         [254, 244, 254, ..., 251, 248, 255],\n",
              "         [253, 251, 241, ..., 247, 251, 254],\n",
              "         ...,\n",
              "         [246, 255, 254, ..., 254, 253, 246],\n",
              "         [255, 255, 255, ..., 255, 255, 255],\n",
              "         [255, 255, 255, ..., 255, 255, 255]], dtype=uint8),\n",
              "  1],\n",
              " [array([[255, 229, 255, ..., 253, 228, 252],\n",
              "         [229, 255, 229, ..., 231, 255, 232],\n",
              "         [255, 229, 255, ..., 253, 228, 252],\n",
              "         ...,\n",
              "         [253, 231, 253, ..., 252, 230, 251],\n",
              "         [228, 255, 228, ..., 230, 255, 232],\n",
              "         [252, 232, 252, ..., 251, 232, 250]], dtype=uint8),\n",
              "  1],\n",
              " [array([[255, 255, 255, ..., 248, 255, 255],\n",
              "         [255, 255, 255, ..., 255, 200, 255],\n",
              "         [255, 255, 255, ..., 252, 207, 255],\n",
              "         ...,\n",
              "         [255, 255, 255, ..., 188, 170, 253],\n",
              "         [255, 255, 255, ..., 179, 179, 255],\n",
              "         [255, 255, 255, ..., 254, 252, 255]], dtype=uint8),\n",
              "  3],\n",
              " [array([[255, 255, 255, ..., 255, 255, 255],\n",
              "         [255, 255, 255, ..., 255, 255, 255],\n",
              "         [255, 255, 255, ..., 255, 255, 255],\n",
              "         ...,\n",
              "         [255, 255, 255, ..., 255, 255, 255],\n",
              "         [255, 255, 255, ..., 255, 255, 255],\n",
              "         [255, 255, 255, ..., 255, 255, 255]], dtype=uint8),\n",
              "  3],\n",
              " [array([[110, 110, 110, ..., 208, 207, 206],\n",
              "         [110, 110, 110, ..., 207, 206, 204],\n",
              "         [109, 108, 110, ..., 206, 207, 205],\n",
              "         ...,\n",
              "         [250, 183, 195, ..., 252, 254, 253],\n",
              "         [253, 173, 167, ..., 208, 204, 255],\n",
              "         [255, 255, 244, ..., 255, 255, 255]], dtype=uint8),\n",
              "  3],\n",
              " [array([[255, 255, 255, ..., 255, 255, 255],\n",
              "         [255, 255, 255, ..., 255, 255, 255],\n",
              "         [255, 255, 254, ..., 255, 255, 255],\n",
              "         ...,\n",
              "         [255, 255, 255, ..., 255, 255, 255],\n",
              "         [255, 255, 255, ..., 255, 255, 255],\n",
              "         [255, 255, 255, ..., 255, 255, 255]], dtype=uint8),\n",
              "  3],\n",
              " [array([[255, 255, 255, ..., 255, 255, 255],\n",
              "         [255, 255, 255, ..., 255, 255, 255],\n",
              "         [255, 255, 255, ..., 255, 255, 255],\n",
              "         ...,\n",
              "         [ 94, 211, 184, ...,  94,  94,  94],\n",
              "         [ 89, 233, 189, ..., 176, 175,  94],\n",
              "         [ 93, 126,  92, ...,  94,  94,  94]], dtype=uint8),\n",
              "  3]]"
            ]
          },
          "metadata": {},
          "execution_count": 16
        }
      ]
    },
    {
      "cell_type": "code",
      "metadata": {
        "colab": {
          "base_uri": "https://localhost:8080/"
        },
        "id": "aG6nUmGb9DNF",
        "outputId": "45b4dd84-879e-4a07-d99f-3525cbe022f5"
      },
      "source": [
        "data[0][1]"
      ],
      "execution_count": null,
      "outputs": [
        {
          "output_type": "execute_result",
          "data": {
            "text/plain": [
              "1"
            ]
          },
          "metadata": {},
          "execution_count": 17
        }
      ]
    },
    {
      "cell_type": "code",
      "metadata": {
        "id": "mOau93_Y9DNH"
      },
      "source": [
        "import random\n",
        "\n",
        "random.shuffle(data)"
      ],
      "execution_count": null,
      "outputs": []
    },
    {
      "cell_type": "code",
      "metadata": {
        "id": "ciWkf6M19DNJ"
      },
      "source": [
        "X = []\n",
        "y = []"
      ],
      "execution_count": null,
      "outputs": []
    },
    {
      "cell_type": "code",
      "metadata": {
        "id": "AqjLjBqG9DNN"
      },
      "source": [
        "for features, label in data:\n",
        "    X.append(features)\n",
        "    y.append(label)"
      ],
      "execution_count": null,
      "outputs": []
    },
    {
      "cell_type": "code",
      "metadata": {
        "id": "SyPG8Brm9DNQ"
      },
      "source": [
        "X = np.array(X)\n",
        "y = np.array(y)"
      ],
      "execution_count": null,
      "outputs": []
    },
    {
      "cell_type": "code",
      "metadata": {
        "colab": {
          "base_uri": "https://localhost:8080/"
        },
        "id": "0W4es1eB9DNR",
        "outputId": "6bb4507e-fd88-499b-e364-be68c6eb9d97"
      },
      "source": [
        "X"
      ],
      "execution_count": null,
      "outputs": [
        {
          "output_type": "execute_result",
          "data": {
            "text/plain": [
              "array([[[255, 255, 255, ..., 255, 255, 255],\n",
              "        [255, 255, 255, ..., 255, 255, 255],\n",
              "        [255, 255, 254, ..., 255, 255, 255],\n",
              "        ...,\n",
              "        [255, 255, 255, ..., 255, 255, 255],\n",
              "        [255, 255, 255, ..., 255, 255, 255],\n",
              "        [255, 255, 255, ..., 255, 255, 255]],\n",
              "\n",
              "       [[255, 255, 255, ..., 255, 255, 255],\n",
              "        [255, 255, 255, ..., 255, 255, 255],\n",
              "        [255, 255, 255, ..., 255, 255, 255],\n",
              "        ...,\n",
              "        [ 90, 210, 175, ...,  91,  90,  92],\n",
              "        [ 88, 228, 195, ..., 159, 164,  92],\n",
              "        [ 95, 134,  90, ...,  92,  87,  93]],\n",
              "\n",
              "       [[  0,   0,   0, ...,   0,   0,   0],\n",
              "        [  0,   0, 255, ..., 255,   0,   0],\n",
              "        [  0, 255, 255, ..., 255, 255,   0],\n",
              "        ...,\n",
              "        [  0, 255, 255, ..., 255, 255,   0],\n",
              "        [  0,   0, 255, ..., 255,   0,   0],\n",
              "        [  0,   0,   0, ...,   0,   0,   0]],\n",
              "\n",
              "       ...,\n",
              "\n",
              "       [[110, 110, 110, ..., 208, 207, 206],\n",
              "        [110, 110, 110, ..., 207, 206, 204],\n",
              "        [109, 108, 110, ..., 206, 207, 205],\n",
              "        ...,\n",
              "        [250, 183, 195, ..., 252, 254, 253],\n",
              "        [253, 173, 167, ..., 208, 204, 255],\n",
              "        [255, 255, 244, ..., 255, 255, 255]],\n",
              "\n",
              "       [[254, 254, 254, ..., 254, 254, 254],\n",
              "        [254, 254, 254, ..., 254, 254, 254],\n",
              "        [254, 254, 254, ..., 254, 254, 254],\n",
              "        ...,\n",
              "        [ 20,  20,  20, ...,  20,  20,  20],\n",
              "        [ 20,  20, 226, ..., 137,  20,  20],\n",
              "        [ 20,  20,  20, ...,  20,  20,  20]],\n",
              "\n",
              "       [[255, 229, 255, ..., 253, 228, 252],\n",
              "        [229, 255, 229, ..., 231, 255, 232],\n",
              "        [255, 229, 255, ..., 253, 228, 252],\n",
              "        ...,\n",
              "        [253, 231, 253, ..., 252, 230, 251],\n",
              "        [228, 255, 228, ..., 230, 255, 232],\n",
              "        [252, 232, 252, ..., 251, 232, 250]]], dtype=uint8)"
            ]
          },
          "metadata": {},
          "execution_count": 22
        }
      ]
    },
    {
      "cell_type": "code",
      "metadata": {
        "colab": {
          "base_uri": "https://localhost:8080/"
        },
        "id": "__K_PlVR9DNS",
        "outputId": "1f190220-a8ee-4406-8946-89846e6bdd8d"
      },
      "source": [
        "y"
      ],
      "execution_count": null,
      "outputs": [
        {
          "output_type": "execute_result",
          "data": {
            "text/plain": [
              "array([3, 1, 1, 3, 3, 1, 3, 3, 1, 1])"
            ]
          },
          "metadata": {},
          "execution_count": 23
        }
      ]
    },
    {
      "cell_type": "code",
      "metadata": {
        "id": "ii4JF6O29DNT"
      },
      "source": [
        "import pickle"
      ],
      "execution_count": null,
      "outputs": []
    },
    {
      "cell_type": "code",
      "metadata": {
        "id": "uZ7uESm79DNU"
      },
      "source": [
        "pickle.dump(X, open('X.pkl', 'wb'))\n",
        "pickle.dump(y, open('y.pkl', 'wb'))"
      ],
      "execution_count": null,
      "outputs": []
    },
    {
      "cell_type": "code",
      "metadata": {
        "id": "UGW1Am6G9DNV"
      },
      "source": [
        "\n",
        "X = pickle.load(open('X.pkl', 'rb'))\n",
        "y = pickle.load(open('y.pkl', 'rb'))"
      ],
      "execution_count": null,
      "outputs": []
    },
    {
      "cell_type": "code",
      "metadata": {
        "colab": {
          "base_uri": "https://localhost:8080/"
        },
        "id": "HdUNJ4-bACsa",
        "outputId": "3d0c6aff-3725-4af2-f1f2-00bdbd59c06b"
      },
      "source": [
        "X"
      ],
      "execution_count": null,
      "outputs": [
        {
          "output_type": "execute_result",
          "data": {
            "text/plain": [
              "array([[[255, 255, 255, ..., 255, 255, 255],\n",
              "        [255, 255, 255, ..., 255, 255, 255],\n",
              "        [255, 255, 254, ..., 255, 255, 255],\n",
              "        ...,\n",
              "        [255, 255, 255, ..., 255, 255, 255],\n",
              "        [255, 255, 255, ..., 255, 255, 255],\n",
              "        [255, 255, 255, ..., 255, 255, 255]],\n",
              "\n",
              "       [[255, 255, 255, ..., 255, 255, 255],\n",
              "        [255, 255, 255, ..., 255, 255, 255],\n",
              "        [255, 255, 255, ..., 255, 255, 255],\n",
              "        ...,\n",
              "        [ 90, 210, 175, ...,  91,  90,  92],\n",
              "        [ 88, 228, 195, ..., 159, 164,  92],\n",
              "        [ 95, 134,  90, ...,  92,  87,  93]],\n",
              "\n",
              "       [[  0,   0,   0, ...,   0,   0,   0],\n",
              "        [  0,   0, 255, ..., 255,   0,   0],\n",
              "        [  0, 255, 255, ..., 255, 255,   0],\n",
              "        ...,\n",
              "        [  0, 255, 255, ..., 255, 255,   0],\n",
              "        [  0,   0, 255, ..., 255,   0,   0],\n",
              "        [  0,   0,   0, ...,   0,   0,   0]],\n",
              "\n",
              "       ...,\n",
              "\n",
              "       [[110, 110, 110, ..., 208, 207, 206],\n",
              "        [110, 110, 110, ..., 207, 206, 204],\n",
              "        [109, 108, 110, ..., 206, 207, 205],\n",
              "        ...,\n",
              "        [250, 183, 195, ..., 252, 254, 253],\n",
              "        [253, 173, 167, ..., 208, 204, 255],\n",
              "        [255, 255, 244, ..., 255, 255, 255]],\n",
              "\n",
              "       [[254, 254, 254, ..., 254, 254, 254],\n",
              "        [254, 254, 254, ..., 254, 254, 254],\n",
              "        [254, 254, 254, ..., 254, 254, 254],\n",
              "        ...,\n",
              "        [ 20,  20,  20, ...,  20,  20,  20],\n",
              "        [ 20,  20, 226, ..., 137,  20,  20],\n",
              "        [ 20,  20,  20, ...,  20,  20,  20]],\n",
              "\n",
              "       [[255, 229, 255, ..., 253, 228, 252],\n",
              "        [229, 255, 229, ..., 231, 255, 232],\n",
              "        [255, 229, 255, ..., 253, 228, 252],\n",
              "        ...,\n",
              "        [253, 231, 253, ..., 252, 230, 251],\n",
              "        [228, 255, 228, ..., 230, 255, 232],\n",
              "        [252, 232, 252, ..., 251, 232, 250]]], dtype=uint8)"
            ]
          },
          "metadata": {},
          "execution_count": 27
        }
      ]
    },
    {
      "cell_type": "code",
      "metadata": {
        "colab": {
          "base_uri": "https://localhost:8080/"
        },
        "id": "O1vC24KWAJlN",
        "outputId": "deb9e4e3-fdc7-4321-9256-7d36b3e2816e"
      },
      "source": [
        "y"
      ],
      "execution_count": null,
      "outputs": [
        {
          "output_type": "execute_result",
          "data": {
            "text/plain": [
              "array([3, 1, 1, 3, 3, 1, 3, 3, 1, 1])"
            ]
          },
          "metadata": {},
          "execution_count": 28
        }
      ]
    },
    {
      "cell_type": "code",
      "metadata": {
        "id": "HbMUKYDPALGt"
      },
      "source": [
        "X = X/255\n",
        "X\n",
        "\n",
        "X = X.reshape(-1, 60, 60, 1)\n"
      ],
      "execution_count": null,
      "outputs": []
    },
    {
      "cell_type": "code",
      "metadata": {
        "id": "5hCW7XZpAXtd"
      },
      "source": [
        "\n",
        "from keras.models import Sequential\n",
        "from keras.layers import Conv2D, MaxPooling2D, Dense, Flatten\n"
      ],
      "execution_count": null,
      "outputs": []
    },
    {
      "cell_type": "code",
      "metadata": {
        "id": "RFDp207jCb2H"
      },
      "source": [
        "model = Sequential()\n",
        "\n",
        "model.add(Conv2D(64, (3,3), activation = 'relu'))\n",
        "model.add(MaxPooling2D((2,2)))\n",
        "\n",
        "model.add(Conv2D(64, (3,3), activation = 'relu'))\n",
        "model.add(MaxPooling2D((2,2)))\n",
        "\n",
        "model.add(Flatten())\n",
        "\n",
        "model.add(Dense(128, input_shape = X.shape[1:], activation = 'relu'))\n",
        "\n",
        "model.add(Dense(4, activation = 'softmax'))"
      ],
      "execution_count": null,
      "outputs": []
    },
    {
      "cell_type": "code",
      "metadata": {
        "id": "ZqVmsJ3VCjin"
      },
      "source": [
        "model.compile(optimizer='adam',\n",
        "              loss='sparse_categorical_crossentropy',\n",
        "              metrics=['accuracy'])"
      ],
      "execution_count": null,
      "outputs": []
    },
    {
      "cell_type": "code",
      "metadata": {
        "colab": {
          "base_uri": "https://localhost:8080/"
        },
        "id": "5dTnHkQ3CmU0",
        "outputId": "e71a34d7-b463-4a96-aae4-14bf01cd15b8"
      },
      "source": [
        "model.fit(X, y, epochs=50, validation_split=0.1)"
      ],
      "execution_count": null,
      "outputs": [
        {
          "output_type": "stream",
          "name": "stdout",
          "text": [
            "Epoch 1/50\n",
            "1/1 [==============================] - 2s 2s/step - loss: 1.4642 - accuracy: 0.0000e+00 - val_loss: 1.1078 - val_accuracy: 0.0000e+00\n",
            "Epoch 2/50\n",
            "1/1 [==============================] - 0s 141ms/step - loss: 0.9210 - accuracy: 0.5556 - val_loss: 0.8114 - val_accuracy: 0.0000e+00\n",
            "Epoch 3/50\n",
            "1/1 [==============================] - 0s 131ms/step - loss: 0.6328 - accuracy: 0.6667 - val_loss: 0.4800 - val_accuracy: 1.0000\n",
            "Epoch 4/50\n",
            "1/1 [==============================] - 0s 114ms/step - loss: 0.4937 - accuracy: 1.0000 - val_loss: 0.5221 - val_accuracy: 1.0000\n",
            "Epoch 5/50\n",
            "1/1 [==============================] - 0s 110ms/step - loss: 0.4013 - accuracy: 0.8889 - val_loss: 0.1582 - val_accuracy: 1.0000\n",
            "Epoch 6/50\n",
            "1/1 [==============================] - 0s 123ms/step - loss: 0.3484 - accuracy: 1.0000 - val_loss: 0.3479 - val_accuracy: 1.0000\n",
            "Epoch 7/50\n",
            "1/1 [==============================] - 0s 114ms/step - loss: 0.2895 - accuracy: 0.8889 - val_loss: 0.1228 - val_accuracy: 1.0000\n",
            "Epoch 8/50\n",
            "1/1 [==============================] - 0s 116ms/step - loss: 0.1695 - accuracy: 1.0000 - val_loss: 0.0324 - val_accuracy: 1.0000\n",
            "Epoch 9/50\n",
            "1/1 [==============================] - 0s 111ms/step - loss: 0.1815 - accuracy: 1.0000 - val_loss: 0.0610 - val_accuracy: 1.0000\n",
            "Epoch 10/50\n",
            "1/1 [==============================] - 0s 116ms/step - loss: 0.0912 - accuracy: 1.0000 - val_loss: 0.0738 - val_accuracy: 1.0000\n",
            "Epoch 11/50\n",
            "1/1 [==============================] - 0s 125ms/step - loss: 0.0948 - accuracy: 1.0000 - val_loss: 0.0247 - val_accuracy: 1.0000\n",
            "Epoch 12/50\n",
            "1/1 [==============================] - 0s 107ms/step - loss: 0.0429 - accuracy: 1.0000 - val_loss: 0.0060 - val_accuracy: 1.0000\n",
            "Epoch 13/50\n",
            "1/1 [==============================] - 0s 117ms/step - loss: 0.0406 - accuracy: 1.0000 - val_loss: 0.0033 - val_accuracy: 1.0000\n",
            "Epoch 14/50\n",
            "1/1 [==============================] - 0s 109ms/step - loss: 0.0320 - accuracy: 1.0000 - val_loss: 0.0036 - val_accuracy: 1.0000\n",
            "Epoch 15/50\n",
            "1/1 [==============================] - 0s 119ms/step - loss: 0.0145 - accuracy: 1.0000 - val_loss: 0.0046 - val_accuracy: 1.0000\n",
            "Epoch 16/50\n",
            "1/1 [==============================] - 0s 106ms/step - loss: 0.0085 - accuracy: 1.0000 - val_loss: 0.0053 - val_accuracy: 1.0000\n",
            "Epoch 17/50\n",
            "1/1 [==============================] - 0s 109ms/step - loss: 0.0078 - accuracy: 1.0000 - val_loss: 0.0049 - val_accuracy: 1.0000\n",
            "Epoch 18/50\n",
            "1/1 [==============================] - 0s 108ms/step - loss: 0.0074 - accuracy: 1.0000 - val_loss: 0.0035 - val_accuracy: 1.0000\n",
            "Epoch 19/50\n",
            "1/1 [==============================] - 0s 108ms/step - loss: 0.0055 - accuracy: 1.0000 - val_loss: 0.0020 - val_accuracy: 1.0000\n",
            "Epoch 20/50\n",
            "1/1 [==============================] - 0s 108ms/step - loss: 0.0034 - accuracy: 1.0000 - val_loss: 9.9169e-04 - val_accuracy: 1.0000\n",
            "Epoch 21/50\n",
            "1/1 [==============================] - 0s 138ms/step - loss: 0.0019 - accuracy: 1.0000 - val_loss: 4.6481e-04 - val_accuracy: 1.0000\n",
            "Epoch 22/50\n",
            "1/1 [==============================] - 0s 111ms/step - loss: 0.0011 - accuracy: 1.0000 - val_loss: 2.1491e-04 - val_accuracy: 1.0000\n",
            "Epoch 23/50\n",
            "1/1 [==============================] - 0s 120ms/step - loss: 7.3448e-04 - accuracy: 1.0000 - val_loss: 1.0120e-04 - val_accuracy: 1.0000\n",
            "Epoch 24/50\n",
            "1/1 [==============================] - 0s 113ms/step - loss: 6.2101e-04 - accuracy: 1.0000 - val_loss: 4.9590e-05 - val_accuracy: 1.0000\n",
            "Epoch 25/50\n",
            "1/1 [==============================] - 0s 115ms/step - loss: 6.2175e-04 - accuracy: 1.0000 - val_loss: 2.5868e-05 - val_accuracy: 1.0000\n",
            "Epoch 26/50\n",
            "1/1 [==============================] - 0s 116ms/step - loss: 6.6749e-04 - accuracy: 1.0000 - val_loss: 1.4782e-05 - val_accuracy: 1.0000\n",
            "Epoch 27/50\n",
            "1/1 [==============================] - 0s 118ms/step - loss: 7.1095e-04 - accuracy: 1.0000 - val_loss: 9.2983e-06 - val_accuracy: 1.0000\n",
            "Epoch 28/50\n",
            "1/1 [==============================] - 0s 113ms/step - loss: 7.1696e-04 - accuracy: 1.0000 - val_loss: 6.5565e-06 - val_accuracy: 1.0000\n",
            "Epoch 29/50\n",
            "1/1 [==============================] - 0s 111ms/step - loss: 6.7222e-04 - accuracy: 1.0000 - val_loss: 5.0068e-06 - val_accuracy: 1.0000\n",
            "Epoch 30/50\n",
            "1/1 [==============================] - 0s 112ms/step - loss: 5.8484e-04 - accuracy: 1.0000 - val_loss: 4.2915e-06 - val_accuracy: 1.0000\n",
            "Epoch 31/50\n",
            "1/1 [==============================] - 0s 108ms/step - loss: 4.7711e-04 - accuracy: 1.0000 - val_loss: 3.8147e-06 - val_accuracy: 1.0000\n",
            "Epoch 32/50\n",
            "1/1 [==============================] - 0s 117ms/step - loss: 3.7201e-04 - accuracy: 1.0000 - val_loss: 3.6955e-06 - val_accuracy: 1.0000\n",
            "Epoch 33/50\n",
            "1/1 [==============================] - 0s 109ms/step - loss: 2.8275e-04 - accuracy: 1.0000 - val_loss: 3.5763e-06 - val_accuracy: 1.0000\n",
            "Epoch 34/50\n",
            "1/1 [==============================] - 0s 115ms/step - loss: 2.1344e-04 - accuracy: 1.0000 - val_loss: 3.5763e-06 - val_accuracy: 1.0000\n",
            "Epoch 35/50\n",
            "1/1 [==============================] - 0s 124ms/step - loss: 1.6204e-04 - accuracy: 1.0000 - val_loss: 3.6955e-06 - val_accuracy: 1.0000\n",
            "Epoch 36/50\n",
            "1/1 [==============================] - 0s 169ms/step - loss: 1.2451e-04 - accuracy: 1.0000 - val_loss: 3.8147e-06 - val_accuracy: 1.0000\n",
            "Epoch 37/50\n",
            "1/1 [==============================] - 0s 174ms/step - loss: 9.7550e-05 - accuracy: 1.0000 - val_loss: 4.0531e-06 - val_accuracy: 1.0000\n",
            "Epoch 38/50\n",
            "1/1 [==============================] - 0s 181ms/step - loss: 7.8204e-05 - accuracy: 1.0000 - val_loss: 4.1723e-06 - val_accuracy: 1.0000\n",
            "Epoch 39/50\n",
            "1/1 [==============================] - 0s 208ms/step - loss: 6.4221e-05 - accuracy: 1.0000 - val_loss: 4.4107e-06 - val_accuracy: 1.0000\n",
            "Epoch 40/50\n",
            "1/1 [==============================] - 0s 193ms/step - loss: 5.4143e-05 - accuracy: 1.0000 - val_loss: 4.5299e-06 - val_accuracy: 1.0000\n",
            "Epoch 41/50\n",
            "1/1 [==============================] - 0s 186ms/step - loss: 4.6846e-05 - accuracy: 1.0000 - val_loss: 4.7684e-06 - val_accuracy: 1.0000\n",
            "Epoch 42/50\n",
            "1/1 [==============================] - 0s 187ms/step - loss: 4.1509e-05 - accuracy: 1.0000 - val_loss: 4.8876e-06 - val_accuracy: 1.0000\n",
            "Epoch 43/50\n",
            "1/1 [==============================] - 0s 184ms/step - loss: 3.7602e-05 - accuracy: 1.0000 - val_loss: 5.1260e-06 - val_accuracy: 1.0000\n",
            "Epoch 44/50\n",
            "1/1 [==============================] - 0s 218ms/step - loss: 3.4728e-05 - accuracy: 1.0000 - val_loss: 5.2452e-06 - val_accuracy: 1.0000\n",
            "Epoch 45/50\n",
            "1/1 [==============================] - 0s 202ms/step - loss: 3.2556e-05 - accuracy: 1.0000 - val_loss: 5.3644e-06 - val_accuracy: 1.0000\n",
            "Epoch 46/50\n",
            "1/1 [==============================] - 0s 212ms/step - loss: 3.1007e-05 - accuracy: 1.0000 - val_loss: 5.4836e-06 - val_accuracy: 1.0000\n",
            "Epoch 47/50\n",
            "1/1 [==============================] - 0s 196ms/step - loss: 2.9828e-05 - accuracy: 1.0000 - val_loss: 5.6028e-06 - val_accuracy: 1.0000\n",
            "Epoch 48/50\n",
            "1/1 [==============================] - 0s 198ms/step - loss: 2.8940e-05 - accuracy: 1.0000 - val_loss: 5.7220e-06 - val_accuracy: 1.0000\n",
            "Epoch 49/50\n",
            "1/1 [==============================] - 0s 194ms/step - loss: 2.8278e-05 - accuracy: 1.0000 - val_loss: 5.8412e-06 - val_accuracy: 1.0000\n",
            "Epoch 50/50\n",
            "1/1 [==============================] - 0s 180ms/step - loss: 2.7762e-05 - accuracy: 1.0000 - val_loss: 5.8412e-06 - val_accuracy: 1.0000\n"
          ]
        },
        {
          "output_type": "execute_result",
          "data": {
            "text/plain": [
              "<keras.callbacks.History at 0x7f38f932df70>"
            ]
          },
          "metadata": {},
          "execution_count": 33
        }
      ]
    },
    {
      "cell_type": "code",
      "metadata": {
        "id": "QexnXlFaDmBb"
      },
      "source": [
        "import cv2\n",
        "import keras"
      ],
      "execution_count": null,
      "outputs": []
    },
    {
      "cell_type": "code",
      "metadata": {
        "id": "VjMb-sz2DpUT"
      },
      "source": [
        "import numpy as np\n",
        "CATEGORIES = ['right','left','stop','go']\n",
        "\n",
        "\n",
        "def image(path):\n",
        "    img = cv2.imread(path, cv2.IMREAD_GRAYSCALE)\n",
        "    new_arr = cv2.resize(img, (60, 60))\n",
        "    new_arr = np.array(new_arr)\n",
        "    new_arr = new_arr.reshape(-1, 60, 60, 1)\n",
        "    return new_arr\n",
        "\n"
      ],
      "execution_count": null,
      "outputs": []
    },
    {
      "cell_type": "code",
      "metadata": {
        "colab": {
          "base_uri": "https://localhost:8080/"
        },
        "id": "eAWhgO-sEvoC",
        "outputId": "753849f8-994a-43b9-bb54-6e01ef274428"
      },
      "source": [
        "prediction = model.predict([image('/content/drive/MyDrive/Project/HUPTrafficdata/right/r6.jpg')])\n",
        "print(CATEGORIES[prediction.argmax()])\n",
        "print(prediction)"
      ],
      "execution_count": null,
      "outputs": [
        {
          "output_type": "stream",
          "name": "stderr",
          "text": [
            "WARNING:tensorflow:Layers in a Sequential model should only have a single input tensor. Received: inputs=(<tf.Tensor 'IteratorGetNext:0' shape=(None, 60, 60, 1) dtype=uint8>,). Consider rewriting this model with the Functional API.\n"
          ]
        },
        {
          "output_type": "stream",
          "name": "stdout",
          "text": [
            "1/1 [==============================] - 0s 136ms/step\n",
            "go\n",
            "[[0. 0. 0. 1.]]\n"
          ]
        }
      ]
    },
    {
      "cell_type": "code",
      "source": [],
      "metadata": {
        "id": "1wnZtGWD06sq"
      },
      "execution_count": null,
      "outputs": []
    }
  ]
}